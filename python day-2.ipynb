{
 "cells": [
  {
   "cell_type": "code",
   "execution_count": 1,
   "id": "56526031",
   "metadata": {},
   "outputs": [
    {
     "data": {
      "text/plain": [
       "['False',\n",
       " 'None',\n",
       " 'True',\n",
       " 'and',\n",
       " 'as',\n",
       " 'assert',\n",
       " 'async',\n",
       " 'await',\n",
       " 'break',\n",
       " 'class',\n",
       " 'continue',\n",
       " 'def',\n",
       " 'del',\n",
       " 'elif',\n",
       " 'else',\n",
       " 'except',\n",
       " 'finally',\n",
       " 'for',\n",
       " 'from',\n",
       " 'global',\n",
       " 'if',\n",
       " 'import',\n",
       " 'in',\n",
       " 'is',\n",
       " 'lambda',\n",
       " 'nonlocal',\n",
       " 'not',\n",
       " 'or',\n",
       " 'pass',\n",
       " 'raise',\n",
       " 'return',\n",
       " 'try',\n",
       " 'while',\n",
       " 'with',\n",
       " 'yield']"
      ]
     },
     "execution_count": 1,
     "metadata": {},
     "output_type": "execute_result"
    }
   ],
   "source": [
    "import keyword\n",
    "keyword.kwlist"
   ]
  },
  {
   "cell_type": "markdown",
   "id": "169bc3ba",
   "metadata": {},
   "source": [
    "def calculate_boyle_temperature(p1, v1, p2):\n",
    "    \n",
    "    R = 8.314\n",
    "    \n",
    "    temperature_kelvin = (p1 * v1) / (p2 * R)\n",
    "    \n",
    "    return temperature_kelvin\n",
    "\n",
    "p1 = int(input(\"enter the pressure: \"))  \n",
    "v1 = int(input(\"enter the volume: \"))  \n",
    "p2 =  int(input(\"enter the pressure: \")) \n",
    "\n",
    "boyle_temperature = calculate_boyle_temperature(p1, v1, p2)\n",
    "print(f\"Boyle Temperature: {boyle_temperature} K\")\n"
   ]
  },
  {
   "cell_type": "code",
   "execution_count": 2,
   "id": "1e750532",
   "metadata": {},
   "outputs": [
    {
     "name": "stdout",
     "output_type": "stream",
     "text": [
      "enter the pressure: 1013\n",
      "enter the volume: 3\n",
      "enter the pressure: none\n"
     ]
    },
    {
     "ename": "ValueError",
     "evalue": "invalid literal for int() with base 10: 'none'",
     "output_type": "error",
     "traceback": [
      "\u001b[0;31m---------------------------------------------------------------------------\u001b[0m",
      "\u001b[0;31mValueError\u001b[0m                                Traceback (most recent call last)",
      "Cell \u001b[0;32mIn[2], line 10\u001b[0m\n\u001b[1;32m      8\u001b[0m p1 \u001b[38;5;241m=\u001b[39m \u001b[38;5;28mint\u001b[39m(\u001b[38;5;28minput\u001b[39m(\u001b[38;5;124m\"\u001b[39m\u001b[38;5;124menter the pressure: \u001b[39m\u001b[38;5;124m\"\u001b[39m))\n\u001b[1;32m      9\u001b[0m v1 \u001b[38;5;241m=\u001b[39m \u001b[38;5;28mfloat\u001b[39m(\u001b[38;5;28minput\u001b[39m(\u001b[38;5;124m\"\u001b[39m\u001b[38;5;124menter the volume: \u001b[39m\u001b[38;5;124m\"\u001b[39m))\n\u001b[0;32m---> 10\u001b[0m p2 \u001b[38;5;241m=\u001b[39m \u001b[38;5;28mint\u001b[39m(\u001b[38;5;28minput\u001b[39m(\u001b[38;5;124m\"\u001b[39m\u001b[38;5;124menter the pressure: \u001b[39m\u001b[38;5;124m\"\u001b[39m))\n\u001b[1;32m     12\u001b[0m boyle_temperature \u001b[38;5;241m=\u001b[39m calculate_boyle_temperature(p1, v1, p2) \n\u001b[1;32m     13\u001b[0m \u001b[38;5;28mprint\u001b[39m(\u001b[38;5;124mf\u001b[39m\u001b[38;5;124m\"\u001b[39m\u001b[38;5;124mBoyle Temperature: \u001b[39m\u001b[38;5;132;01m{\u001b[39;00mboyle_temperature\u001b[38;5;132;01m}\u001b[39;00m\u001b[38;5;124m K\u001b[39m\u001b[38;5;124m\"\u001b[39m)\n",
      "\u001b[0;31mValueError\u001b[0m: invalid literal for int() with base 10: 'none'"
     ]
    }
   ],
   "source": [
    "def calculate_boyle_temperature(p1, v1, p2):\n",
    "\n",
    "    R = 8.314\n",
    "\n",
    "    temperature_kelvin = (p1 * v1) / (p2 * R)\n",
    "\n",
    "    return temperature_kelvin\n",
    "p1 = int(input(\"enter the pressure: \"))\n",
    "v1 = float(input(\"enter the volume: \"))\n",
    "p2 = int(input(\"enter the pressure: \"))\n",
    "\n",
    "boyle_temperature = calculate_boyle_temperature(p1, v1, p2) \n",
    "print(f\"Boyle Temperature: {boyle_temperature} K\")\n"
   ]
  },
  {
   "cell_type": "code",
   "execution_count": 4,
   "id": "c2f6c803",
   "metadata": {},
   "outputs": [
    {
     "name": "stdout",
     "output_type": "stream",
     "text": [
      "enter the p1:1013\n"
     ]
    },
    {
     "ename": "ValueError",
     "evalue": "invalid literal for int() with base 10: 'enter the v1:'",
     "output_type": "error",
     "traceback": [
      "\u001b[0;31m---------------------------------------------------------------------------\u001b[0m",
      "\u001b[0;31mValueError\u001b[0m                                Traceback (most recent call last)",
      "Cell \u001b[0;32mIn[4], line 11\u001b[0m\n\u001b[1;32m      8\u001b[0m     \u001b[38;5;28;01mreturn\u001b[39;00m v2\n\u001b[1;32m     10\u001b[0m p1\u001b[38;5;241m=\u001b[39m\u001b[38;5;28mint\u001b[39m(\u001b[38;5;28minput\u001b[39m(\u001b[38;5;124m\"\u001b[39m\u001b[38;5;124menter the p1:\u001b[39m\u001b[38;5;124m\"\u001b[39m))\n\u001b[0;32m---> 11\u001b[0m v1\u001b[38;5;241m=\u001b[39m\u001b[38;5;28mfloat\u001b[39m(\u001b[38;5;28mint\u001b[39m(\u001b[38;5;124m\"\u001b[39m\u001b[38;5;124menter the v1:\u001b[39m\u001b[38;5;124m\"\u001b[39m))\n\u001b[1;32m     12\u001b[0m p2\u001b[38;5;241m=\u001b[39m\u001b[38;5;28mint\u001b[39m(\u001b[38;5;28minput\u001b[39m(\u001b[38;5;124m\"\u001b[39m\u001b[38;5;124menter the p2:\u001b[39m\u001b[38;5;124m\"\u001b[39m))\n\u001b[1;32m     14\u001b[0m b_temp\u001b[38;5;241m=\u001b[39mfunc_error(p1,v1,p2)\n",
      "\u001b[0;31mValueError\u001b[0m: invalid literal for int() with base 10: 'enter the v1:'"
     ]
    }
   ],
   "source": [
    "def func_error(p1,v1,p2):\n",
    "    try:\n",
    "        result = (p1*v1)/ p2\n",
    "    except ZeroDivisionError as e:\n",
    "        print(f\"Error: {e}\")\n",
    "    else:\n",
    "        v2=(p1*v1)/p2\n",
    "    return v2\n",
    "    \n",
    "p1=int(input(\"enter the p1:\"))\n",
    "v1=float(int(\"enter the v1:\"))\n",
    "p2=int(input(\"enter the p2:\"))\n",
    "\n",
    "b_temp=func_error(p1,v1,p2)\n",
    "print(f\"Boyle_temperature:{b_temp}K\")"
   ]
  },
  {
   "cell_type": "code",
   "execution_count": 6,
   "id": "8727196c",
   "metadata": {},
   "outputs": [
    {
     "name": "stdout",
     "output_type": "stream",
     "text": [
      "enter the p1:1013\n"
     ]
    },
    {
     "ename": "ValueError",
     "evalue": "invalid literal for int() with base 10: 'enter the v1:'",
     "output_type": "error",
     "traceback": [
      "\u001b[0;31m---------------------------------------------------------------------------\u001b[0m",
      "\u001b[0;31mValueError\u001b[0m                                Traceback (most recent call last)",
      "Cell \u001b[0;32mIn[6], line 3\u001b[0m\n\u001b[1;32m      1\u001b[0m b_temp \u001b[38;5;241m=\u001b[39m \u001b[38;5;28;01mlambda\u001b[39;00m p1, v1, p2: (p1 \u001b[38;5;241m*\u001b[39m v1) \u001b[38;5;241m/\u001b[39m (p2 \u001b[38;5;241m*\u001b[39m \u001b[38;5;241m8.314\u001b[39m)\n\u001b[1;32m      2\u001b[0m p1\u001b[38;5;241m=\u001b[39m\u001b[38;5;28mint\u001b[39m(\u001b[38;5;28minput\u001b[39m(\u001b[38;5;124m\"\u001b[39m\u001b[38;5;124menter the p1:\u001b[39m\u001b[38;5;124m\"\u001b[39m))\n\u001b[0;32m----> 3\u001b[0m v1\u001b[38;5;241m=\u001b[39m\u001b[38;5;28mfloat\u001b[39m(\u001b[38;5;28mint\u001b[39m(\u001b[38;5;124m\"\u001b[39m\u001b[38;5;124menter the v1:\u001b[39m\u001b[38;5;124m\"\u001b[39m))\n\u001b[1;32m      4\u001b[0m p2\u001b[38;5;241m=\u001b[39m\u001b[38;5;28mint\u001b[39m(\u001b[38;5;28minput\u001b[39m(\u001b[38;5;124m\"\u001b[39m\u001b[38;5;124menter the p2:\u001b[39m\u001b[38;5;124m\"\u001b[39m))\n\u001b[1;32m      6\u001b[0m temp\u001b[38;5;241m=\u001b[39mb_temp(p1,v1,p2)\n",
      "\u001b[0;31mValueError\u001b[0m: invalid literal for int() with base 10: 'enter the v1:'"
     ]
    }
   ],
   "source": [
    "b_temp = lambda p1, v1, p2: (p1 * v1) / (p2 * 8.314)\n",
    "p1=int(input(\"enter the p1:\"))\n",
    "v1=float(int(\"enter the v1:\"))\n",
    "p2=int(input(\"enter the p2:\"))\n",
    "\n",
    "temp=b_temp(p1,v1,p2)\n",
    "print(f\"Boyle_temperature:{b_temp}K\")"
   ]
  },
  {
   "cell_type": "code",
   "execution_count": 7,
   "id": "67ad4706",
   "metadata": {},
   "outputs": [
    {
     "name": "stdout",
     "output_type": "stream",
     "text": [
      "2023-09-19 04:29:39.892866\n"
     ]
    }
   ],
   "source": [
    "import datetime\n",
    "x=datetime.datetime.now()\n",
    "print(x)"
   ]
  },
  {
   "cell_type": "code",
   "execution_count": 8,
   "id": "93a53313",
   "metadata": {},
   "outputs": [
    {
     "name": "stdout",
     "output_type": "stream",
     "text": [
      "Current Unix Timestamp: 1695098017\n"
     ]
    }
   ],
   "source": [
    "import time\n",
    "\n",
    "def get_current_unix_timestamp():\n",
    "    return int(time.time())\n",
    "\n",
    "timestamp = get_current_unix_timestamp()\n",
    "print(f\"Current Unix Timestamp: {timestamp}\")\n",
    "    "
   ]
  },
  {
   "cell_type": "code",
   "execution_count": 9,
   "id": "57d6f1ad",
   "metadata": {},
   "outputs": [
    {
     "name": "stdout",
     "output_type": "stream",
     "text": [
      "Custom Timestamp: 2023-09-19 04:40:31\n"
     ]
    }
   ],
   "source": [
    "from datetime import datetime\n",
    "\n",
    "def custom_timestamp(dt, format_string):\n",
    "   \n",
    "    return dt.strftime(format_string)\n",
    "\n",
    "current_datetime = datetime.now()\n",
    "format_string = \"%Y-%m-%d %H:%M:%S\"  \n",
    "\n",
    "formatted_timestamp = custom_timestamp(current_datetime, format_string)\n",
    "print(\"Custom Timestamp:\", formatted_timestamp)\n"
   ]
  },
  {
   "cell_type": "code",
   "execution_count": 10,
   "id": "2784d769",
   "metadata": {},
   "outputs": [
    {
     "name": "stdout",
     "output_type": "stream",
     "text": [
      "Elapsed Time (seconds): 5400.0\n"
     ]
    }
   ],
   "source": [
    "from datetime import datetime\n",
    "\n",
    "def elapsed_time(start_timestamp, end_timestamp):\n",
    "    \n",
    "    elapsed_time = (end_timestamp - start_timestamp).total_seconds()\n",
    "    return elapsed_time\n",
    "\n",
    "start_time = datetime(2023, 9, 1, 12, 0, 0)  \n",
    "end_time = datetime(2023, 9, 1, 13, 30, 0)    \n",
    "\n",
    "time_difference = elapsed_time(start_time, end_time)\n",
    "print(\"Elapsed Time (seconds):\", time_difference)\n"
   ]
  },
  {
   "cell_type": "code",
   "execution_count": 11,
   "id": "39f97994",
   "metadata": {},
   "outputs": [
    {
     "name": "stdout",
     "output_type": "stream",
     "text": [
      "Oil Well Age: 23.73 years\n",
      "Elapsed Time: 748420200.00 seconds\n"
     ]
    }
   ],
   "source": [
    "from datetime import datetime\n",
    "\n",
    "def calculate_age(start_date, current_date):\n",
    "    \n",
    "    start_date = datetime.strptime(start_date, \"%Y-%m-%d\")\n",
    "    current_date = datetime.strptime(current_date, \"%Y-%m-%d\")\n",
    "    age_timedelta = current_date - start_date\n",
    "    return age_timedelta.days / 365.0\n",
    "\n",
    "def calculate_elapsed_time(start_time, end_time):\n",
    "    \n",
    "    start_time = datetime.strptime(start_time, \"%Y-%m-%d %H:%M:%S\")\n",
    "    end_time = datetime.strptime(end_time, \"%Y-%m-%d %H:%M:%S\")\n",
    "    elapsed_timedelta = end_time - start_time\n",
    "    return elapsed_timedelta.total_seconds()\n",
    "\n",
    "start_date = \"2000-01-01\"\n",
    "current_date = \"2023-09-19\"\n",
    "\n",
    "start_time = \"2000-01-01 08:00:00\"\n",
    "end_time = \"2023-09-19 14:30:00\"\n",
    "\n",
    "age = calculate_age(start_date, current_date)\n",
    "elapsed_time_seconds = calculate_elapsed_time(start_time, end_time)\n",
    "\n",
    "print(f\"Oil Well Age: {age:.2f} years\")\n",
    "print(f\"Elapsed Time: {elapsed_time_seconds:.2f} seconds\")\n"
   ]
  },
  {
   "cell_type": "code",
   "execution_count": 12,
   "id": "c0f40058",
   "metadata": {},
   "outputs": [
    {
     "name": "stdout",
     "output_type": "stream",
     "text": [
      "Employee Experience: 13.68 years\n",
      "Elapsed Time for Task: 109800.00 seconds\n",
      "Well Age: 18.54 years\n",
      "Travel Time: 6.25 hours\n"
     ]
    }
   ],
   "source": [
    "from datetime import datetime\n",
    "\n",
    "def calculate_experience(hiring_date, current_date):\n",
    "\n",
    "    hiring_date = datetime.strptime(hiring_date, \"%Y-%m-%d\")\n",
    "    current_date = datetime.strptime(current_date, \"%Y-%m-%d\")\n",
    "    experience_timedelta = current_date - hiring_date\n",
    "    return experience_timedelta.days / 365.0\n",
    "\n",
    "def calculate_elapsed_time(start_time, end_time):\n",
    "    \n",
    "    start_time = datetime.strptime(start_time, \"%Y-%m-%d %H:%M:%S\")\n",
    "    end_time = datetime.strptime(end_time, \"%Y-%m-%d %H:%M:%S\")\n",
    "    elapsed_timedelta = end_time - start_time\n",
    "    return elapsed_timedelta.total_seconds()\n",
    "\n",
    "def calculate_age(drilling_date, current_date):\n",
    "   \n",
    "    drilling_date = datetime.strptime(drilling_date, \"%Y-%m-%d\")\n",
    "    current_date = datetime.strptime(current_date, \"%Y-%m-%d\")\n",
    "    age_timedelta = current_date - drilling_date\n",
    "    return age_timedelta.days / 365.0\n",
    "\n",
    "def calculate_travel_time(departure_time, arrival_time):\n",
    "    \n",
    "    departure_time = datetime.strptime(departure_time, \"%Y-%m-%d %H:%M:%S\")\n",
    "    arrival_time = datetime.strptime(arrival_time, \"%Y-%m-%d %H:%M:%S\")\n",
    "    travel_timedelta = arrival_time - departure_time\n",
    "    return travel_timedelta.total_seconds() / 3600.0\n",
    "\n",
    "employee_hiring_date = \"2010-01-15\"\n",
    "employee_current_date = \"2023-09-19\"\n",
    "\n",
    "task_start_time = \"2023-09-18 08:00:00\"\n",
    "task_end_time = \"2023-09-19 14:30:00\"\n",
    "\n",
    "well_drilling_date = \"2005-03-10\"\n",
    "current_date = \"2023-09-19\"\n",
    "\n",
    "departure_time = \"2023-09-19 06:30:00\"\n",
    "arrival_time = \"2023-09-19 12:45:00\"\n",
    "\n",
    "employee_experience = calculate_experience(employee_hiring_date, employee_current_date)\n",
    "task_elapsed_time = calculate_elapsed_time(task_start_time, task_end_time)\n",
    "well_age = calculate_age(well_drilling_date, current_date)\n",
    "travel_time = calculate_travel_time(departure_time, arrival_time)\n",
    "\n",
    "print(f\"Employee Experience: {employee_experience:.2f} years\")\n",
    "print(f\"Elapsed Time for Task: {task_elapsed_time:.2f} seconds\")\n",
    "print(f\"Well Age: {well_age:.2f} years\")\n",
    "print(f\"Travel Time: {travel_time:.2f} hours\")\n"
   ]
  },
  {
   "cell_type": "code",
   "execution_count": 20,
   "id": "38abcb0c",
   "metadata": {},
   "outputs": [
    {
     "name": "stdout",
     "output_type": "stream",
     "text": [
      "Custom Timestamp: 23-09-19\n"
     ]
    }
   ],
   "source": [
    "from datetime import datetime\n",
    "\n",
    "def custom_timestamp(dt, format_string=\"%y-%m-%d\"):\n",
    "   \n",
    "    return dt.strftime(format_string)\n",
    " \n",
    "\n",
    "formatted_timestamp = custom_timestamp(current_datetime)\n",
    "print(\"Custom Timestamp:\", formatted_timestamp)"
   ]
  },
  {
   "cell_type": "code",
   "execution_count": 17,
   "id": "e526672f",
   "metadata": {},
   "outputs": [
    {
     "name": "stdout",
     "output_type": "stream",
     "text": [
      "Custom Timestamp: 19/09/2023\n"
     ]
    }
   ],
   "source": [
    "from datetime import datetime\n",
    "\n",
    "def custom_timestamp(dt, format_string=\"%d/%m/%Y\"):\n",
    "    \n",
    "    return dt.strftime(format_string)\n",
    "\n",
    "# Example usage:\n",
    "current_datetime = datetime.now()\n",
    "formatted_timestamp = custom_timestamp(current_datetime)\n",
    "print(\"Custom Timestamp:\", formatted_timestamp)\n"
   ]
  },
  {
   "cell_type": "code",
   "execution_count": 21,
   "id": "18937ce9",
   "metadata": {},
   "outputs": [
    {
     "name": "stdout",
     "output_type": "stream",
     "text": [
      "Custom Timestamp: 19/09on/2023\n"
     ]
    }
   ],
   "source": [
    "from datetime import datetime\n",
    "\n",
    "def custom_timestamp(dt, format_string=\"%d/%m/%Y\"):\n",
    "    \n",
    "    return dt.strftime(format_string)\n",
    "\n",
    "# Example usage:\n",
    "current_datetime = datetime.now()\n",
    "formatted_timestamp = custom_timestamp(current_datetime)\n",
    "print(\"Custom Timestamp:\", formatted_timestamp)\n"
   ]
  },
  {
   "cell_type": "code",
   "execution_count": 23,
   "id": "fc73bb91",
   "metadata": {},
   "outputs": [
    {
     "name": "stdout",
     "output_type": "stream",
     "text": [
      "Custom Timestamp: 19/Sep/2023\n"
     ]
    }
   ],
   "source": [
    "from datetime import datetime\n",
    "\n",
    "def custom_timestamp(dt, format_string=\"%d/%b/%Y\"):\n",
    "    \n",
    "    return dt.strftime(format_string)\n",
    "\n",
    "# Example usage:\n",
    "current_datetime = datetime.now()\n",
    "formatted_timestamp = custom_timestamp(current_datetime)\n",
    "print(\"Custom Timestamp:\", formatted_timestamp)\n"
   ]
  },
  {
   "cell_type": "code",
   "execution_count": 26,
   "id": "57944dfb",
   "metadata": {},
   "outputs": [
    {
     "name": "stdout",
     "output_type": "stream",
     "text": [
      "18\n"
     ]
    }
   ],
   "source": [
    "def value(b,c,a=5):\n",
    "    return a+b+c\n",
    "b=6\n",
    "c=7\n",
    "v=value(b,c)\n",
    "print(v)\n"
   ]
  },
  {
   "cell_type": "code",
   "execution_count": 27,
   "id": "44bf97c2",
   "metadata": {},
   "outputs": [
    {
     "name": "stdout",
     "output_type": "stream",
     "text": [
      "Result 1:6\n",
      "Result 1:150\n",
      "Result 1:360\n"
     ]
    }
   ],
   "source": [
    "def calculate_sum(*nums):\n",
    "    total=0\n",
    "    for num in nums:\n",
    "        total+=num\n",
    "    return total\n",
    "\n",
    "r1=calculate_sum(1,2,3)\n",
    "r2=calculate_sum(10,20,30,40,50)\n",
    "r3=calculate_sum(120,120,120)\n",
    "\n",
    "print(f\"Result 1:{r1}\")\n",
    "print(f\"Result 1:{r2}\")\n",
    "print(f\"Result 1:{r3}\")"
   ]
  },
  {
   "cell_type": "code",
   "execution_count": 30,
   "id": "6fd394e9",
   "metadata": {},
   "outputs": [
    {
     "name": "stdout",
     "output_type": "stream",
     "text": [
      "The factorial of 0 is 1\n"
     ]
    }
   ],
   "source": [
    "def factorial(n):\n",
    "    \n",
    "    if n < 0:\n",
    "        return \"Factorial is not defined for negative numbers\"\n",
    "    elif n == 0:\n",
    "        return 1\n",
    "    else:\n",
    "        result = 1\n",
    "        for i in range(1, n + 1):\n",
    "            result *= i\n",
    "        return result\n",
    "\n",
    "n = 0 \n",
    "fact = factorial(n)\n",
    "print(f\"The factorial of {n} is {fact}\")\n",
    "\n",
    "        "
   ]
  },
  {
   "cell_type": "code",
   "execution_count": 31,
   "id": "fb47f5c4",
   "metadata": {},
   "outputs": [],
   "source": [
    "oil_well={\n",
    "    'name':\"Well A\",\n",
    "    'initial_reserves':1000,\n",
    "    'decline_rate':0.1\n",
    "}"
   ]
  },
  {
   "cell_type": "code",
   "execution_count": 32,
   "id": "a7fa41b7",
   "metadata": {},
   "outputs": [
    {
     "data": {
      "text/plain": [
       "{'name': 'Well A', 'initial_reserves': 1000, 'decline_rate': 0.1}"
      ]
     },
     "execution_count": 32,
     "metadata": {},
     "output_type": "execute_result"
    }
   ],
   "source": [
    "oil_well\n"
   ]
  },
  {
   "cell_type": "code",
   "execution_count": 33,
   "id": "d2a57f7f",
   "metadata": {},
   "outputs": [
    {
     "name": "stdout",
     "output_type": "stream",
     "text": [
      "Year 0: Remaining Reserves = 1000.00 barrels\n",
      "Year 1: Remaining Reserves = 900.00 barrels\n",
      "Year 2: Remaining Reserves = 810.00 barrels\n",
      "Year 3: Remaining Reserves = 729.00 barrels\n",
      "Year 4: Remaining Reserves = 656.10 barrels\n",
      "Year 5: Remaining Reserves = 590.49 barrels\n",
      "Year 6: Remaining Reserves = 531.44 barrels\n",
      "Year 7: Remaining Reserves = 478.30 barrels\n",
      "Year 8: Remaining Reserves = 430.47 barrels\n",
      "Year 9: Remaining Reserves = 387.42 barrels\n",
      "Year 10: Remaining Reserves = 348.68 barrels\n"
     ]
    }
   ],
   "source": [
    "def calculate_remaining_reserves(year, well):\n",
    "    \n",
    "    if year == 0:\n",
    "        return well[\"initial_reserves\"]\n",
    "    else:\n",
    "        previous_reserves = calculate_remaining_reserves(year - 1, well)\n",
    "        current_reserves = previous_reserves - (well[\"decline_rate\"] * previous_reserves)\n",
    "        return current_reserves\n",
    "\n",
    "oil_well = {\n",
    "    \"name\": \"Well A\",\n",
    "    \"initial_reserves\": 1000, \n",
    "    \"decline_rate\": 0.1,       \n",
    "}\n",
    "\n",
    "for year in range(11):  \n",
    "    remaining_reserves = calculate_remaining_reserves(year, oil_well)\n",
    "    print(f\"Year {year}: Remaining Reserves = {remaining_reserves:.2f} barrels\")\n"
   ]
  },
  {
   "cell_type": "code",
   "execution_count": 34,
   "id": "343b3dde",
   "metadata": {},
   "outputs": [
    {
     "name": "stdout",
     "output_type": "stream",
     "text": [
      "Year 1: Total Annual Production = 300.00 barrels\n",
      "Year 2: Total Annual Production = 263.60 barrels\n",
      "Year 3: Total Annual Production = 231.73 barrels\n",
      "Year 4: Total Annual Production = 203.81 barrels\n",
      "Year 5: Total Annual Production = 179.33 barrels\n",
      "Year 6: Total Annual Production = 157.87 barrels\n",
      "Year 7: Total Annual Production = 139.04 barrels\n",
      "Year 8: Total Annual Production = 122.52 barrels\n",
      "Year 9: Total Annual Production = 108.00 barrels\n",
      "Year 10: Total Annual Production = 95.25 barrels\n"
     ]
    }
   ],
   "source": [
    "def calculate_annual_production(well, year):\n",
    "   \n",
    "    initial_rate = well[\"initial_rate\"]\n",
    "    decline_rate = well[\"decline_rate\"]\n",
    "    annual_production = initial_rate * (1 - decline_rate) ** (year - 1)\n",
    "    return annual_production\n",
    "\n",
    "def calculate_total_annual_production(oil_wells, year):\n",
    "    \n",
    "    total_production = sum(calculate_annual_production(well, year) for well in oil_wells)\n",
    "    return total_production\n",
    "\n",
    "oil_wells = [\n",
    "    {\"name\": \"Well A\", \"initial_rate\": 100, \"decline_rate\": 0.1},\n",
    "    {\"name\": \"Well B\", \"initial_rate\": 80, \"decline_rate\": 0.15},\n",
    "    {\"name\": \"Well C\", \"initial_rate\": 120, \"decline_rate\": 0.12},\n",
    "]\n",
    "\n",
    "num_years = 10  \n",
    "for year in range(1, num_years + 1):\n",
    "    total_annual_production = calculate_total_annual_production(oil_wells, year)\n",
    "    print(f\"Year {year}: Total Annual Production = {total_annual_production:.2f} barrels\")\n"
   ]
  },
  {
   "cell_type": "code",
   "execution_count": 36,
   "id": "e44198ef",
   "metadata": {},
   "outputs": [],
   "source": [
    "def decor(func):\n",
    "    def inner(name):\n",
    "        if name==\"Sunny\":\n",
    "            print(\"Hello Sunny Happy Afternoon\")\n",
    "            \n",
    "        else:\n",
    "            func(name)\n",
    "            return inner\n",
    "        "
   ]
  },
  {
   "cell_type": "code",
   "execution_count": 43,
   "id": "fe6edec7",
   "metadata": {},
   "outputs": [
    {
     "name": "stdout",
     "output_type": "stream",
     "text": [
      "Hello Arjun Good Morning\n",
      "Hello Gautam Good Morning\n",
      "Hello Sunny Good Morning\n"
     ]
    }
   ],
   "source": [
    "\n",
    "def wish(name):\n",
    "    print(\"Hello\",name,\"Good Morning\")\n",
    "\n",
    "wish(\"Arjun\")\n",
    "wish(\"Gautam\")\n",
    "wish(\"Sunny\")"
   ]
  },
  {
   "cell_type": "code",
   "execution_count": 3,
   "id": "9643d7b4",
   "metadata": {},
   "outputs": [
    {
     "name": "stdout",
     "output_type": "stream",
     "text": [
      "Start Countdown\n",
      "5\n",
      "4\n",
      "3\n",
      "2\n",
      "1\n"
     ]
    }
   ],
   "source": [
    "def countdown(num):\n",
    "    print(\"Start Countdown\")\n",
    "    while(num>0):\n",
    "        yield num\n",
    "        num=num-1\n",
    "values=countdown(5)\n",
    "for x in values:\n",
    "    print(x)\n",
    "    "
   ]
  },
  {
   "cell_type": "code",
   "execution_count": 6,
   "id": "180d20f1",
   "metadata": {},
   "outputs": [
    {
     "name": "stdout",
     "output_type": "stream",
     "text": [
      "Shipment ID 101:\n",
      "  Product Type: Crude Oil\n",
      "  Quantity: 50\n",
      "  Distance (km): 200\n",
      "  Selected Route: Route C\n",
      "  Transportation Cost: 400.00\n",
      "========================================\n",
      "Shipment ID 102:\n",
      "  Product Type: Natural Gas\n",
      "  Quantity: 1000\n",
      "  Distance (km): 300\n"
     ]
    },
    {
     "ename": "AttributeError",
     "evalue": "'Shipment' object has no attribute 'selected_route'",
     "output_type": "error",
     "traceback": [
      "\u001b[0;31m---------------------------------------------------------------------------\u001b[0m",
      "\u001b[0;31mAttributeError\u001b[0m                            Traceback (most recent call last)",
      "Cell \u001b[0;32mIn[6], line 81\u001b[0m\n\u001b[1;32m     79\u001b[0m logistics \u001b[38;5;241m=\u001b[39m LogisticsManager(routes_data, shipments_data, centers_data)\n\u001b[1;32m     80\u001b[0m logistics\u001b[38;5;241m.\u001b[39moptimize_shipments()\n\u001b[0;32m---> 81\u001b[0m logistics\u001b[38;5;241m.\u001b[39mdisplay_shipment_schedule()\n\u001b[1;32m     85\u001b[0m \u001b[38;5;66;03m# Sample data for transportation routes\u001b[39;00m\n\u001b[1;32m     86\u001b[0m routes \u001b[38;5;241m=\u001b[39m [\n\u001b[1;32m     87\u001b[0m     {\u001b[38;5;124m\"\u001b[39m\u001b[38;5;124mroute_id\u001b[39m\u001b[38;5;124m\"\u001b[39m: \u001b[38;5;241m1\u001b[39m, \u001b[38;5;124m\"\u001b[39m\u001b[38;5;124mroute_name\u001b[39m\u001b[38;5;124m\"\u001b[39m: \u001b[38;5;124m\"\u001b[39m\u001b[38;5;124mRoute A\u001b[39m\u001b[38;5;124m\"\u001b[39m, \u001b[38;5;124m\"\u001b[39m\u001b[38;5;124mcapacity\u001b[39m\u001b[38;5;124m\"\u001b[39m: \u001b[38;5;241m100\u001b[39m, \u001b[38;5;124m\"\u001b[39m\u001b[38;5;124mcost_per_km\u001b[39m\u001b[38;5;124m\"\u001b[39m: \u001b[38;5;241m2.5\u001b[39m},\n\u001b[1;32m     88\u001b[0m     {\u001b[38;5;124m\"\u001b[39m\u001b[38;5;124mroute_id\u001b[39m\u001b[38;5;124m\"\u001b[39m: \u001b[38;5;241m2\u001b[39m, \u001b[38;5;124m\"\u001b[39m\u001b[38;5;124mroute_name\u001b[39m\u001b[38;5;124m\"\u001b[39m: \u001b[38;5;124m\"\u001b[39m\u001b[38;5;124mRoute B\u001b[39m\u001b[38;5;124m\"\u001b[39m, \u001b[38;5;124m\"\u001b[39m\u001b[38;5;124mcapacity\u001b[39m\u001b[38;5;124m\"\u001b[39m: \u001b[38;5;241m150\u001b[39m, \u001b[38;5;124m\"\u001b[39m\u001b[38;5;124mcost_per_km\u001b[39m\u001b[38;5;124m\"\u001b[39m: \u001b[38;5;241m3.0\u001b[39m},\n\u001b[1;32m     89\u001b[0m     {\u001b[38;5;124m\"\u001b[39m\u001b[38;5;124mroute_id\u001b[39m\u001b[38;5;124m\"\u001b[39m: \u001b[38;5;241m3\u001b[39m, \u001b[38;5;124m\"\u001b[39m\u001b[38;5;124mroute_name\u001b[39m\u001b[38;5;124m\"\u001b[39m: \u001b[38;5;124m\"\u001b[39m\u001b[38;5;124mRoute C\u001b[39m\u001b[38;5;124m\"\u001b[39m, \u001b[38;5;124m\"\u001b[39m\u001b[38;5;124mcapacity\u001b[39m\u001b[38;5;124m\"\u001b[39m: \u001b[38;5;241m200\u001b[39m, \u001b[38;5;124m\"\u001b[39m\u001b[38;5;124mcost_per_km\u001b[39m\u001b[38;5;124m\"\u001b[39m: \u001b[38;5;241m2.0\u001b[39m},\n\u001b[1;32m     90\u001b[0m ]\n",
      "Cell \u001b[0;32mIn[6], line 54\u001b[0m, in \u001b[0;36mLogisticsManager.display_shipment_schedule\u001b[0;34m(self)\u001b[0m\n\u001b[1;32m     52\u001b[0m \u001b[38;5;28mprint\u001b[39m(\u001b[38;5;124mf\u001b[39m\u001b[38;5;124m\"\u001b[39m\u001b[38;5;124m  Quantity: \u001b[39m\u001b[38;5;132;01m{\u001b[39;00mshipment\u001b[38;5;241m.\u001b[39mquantity\u001b[38;5;132;01m}\u001b[39;00m\u001b[38;5;124m\"\u001b[39m)\n\u001b[1;32m     53\u001b[0m \u001b[38;5;28mprint\u001b[39m(\u001b[38;5;124mf\u001b[39m\u001b[38;5;124m\"\u001b[39m\u001b[38;5;124m  Distance (km): \u001b[39m\u001b[38;5;132;01m{\u001b[39;00mshipment\u001b[38;5;241m.\u001b[39mdistance_km\u001b[38;5;132;01m}\u001b[39;00m\u001b[38;5;124m\"\u001b[39m)\n\u001b[0;32m---> 54\u001b[0m \u001b[38;5;28mprint\u001b[39m(\u001b[38;5;124mf\u001b[39m\u001b[38;5;124m\"\u001b[39m\u001b[38;5;124m  Selected Route: \u001b[39m\u001b[38;5;132;01m{\u001b[39;00mshipment\u001b[38;5;241m.\u001b[39mselected_route\u001b[38;5;241m.\u001b[39mroute_name\u001b[38;5;132;01m}\u001b[39;00m\u001b[38;5;124m\"\u001b[39m)\n\u001b[1;32m     55\u001b[0m \u001b[38;5;28mprint\u001b[39m(\u001b[38;5;124mf\u001b[39m\u001b[38;5;124m\"\u001b[39m\u001b[38;5;124m  Transportation Cost: \u001b[39m\u001b[38;5;132;01m{\u001b[39;00mshipment\u001b[38;5;241m.\u001b[39mcost\u001b[38;5;132;01m:\u001b[39;00m\u001b[38;5;124m.2f\u001b[39m\u001b[38;5;132;01m}\u001b[39;00m\u001b[38;5;124m\"\u001b[39m)\n\u001b[1;32m     56\u001b[0m \u001b[38;5;28mprint\u001b[39m(\u001b[38;5;124m\"\u001b[39m\u001b[38;5;124m=\u001b[39m\u001b[38;5;124m\"\u001b[39m \u001b[38;5;241m*\u001b[39m \u001b[38;5;241m40\u001b[39m)\n",
      "\u001b[0;31mAttributeError\u001b[0m: 'Shipment' object has no attribute 'selected_route'"
     ]
    }
   ],
   "source": [
    "\n",
    "class Route:\n",
    "    def __init__(self, route_id, route_name, capacity, cost_per_km):\n",
    "        self.route_id = route_id\n",
    "        self.route_name = route_name\n",
    "        self.capacity = capacity\n",
    "        self.cost_per_km = cost_per_km\n",
    "        self.capacity_available = capacity\n",
    "\n",
    "class Shipment:\n",
    "    def __init__(self, shipment_id, product_type, quantity, distance_km):\n",
    "        self.shipment_id = shipment_id\n",
    "        self.product_type = product_type\n",
    "        self.quantity = quantity\n",
    "        self.distance_km = distance_km\n",
    "        self.cost = 0  # Placeholder for calculated cost\n",
    "\n",
    "class DistributionCenter:\n",
    "    def __init__(self, center_id, center_name, location):\n",
    "        self.center_id = center_id\n",
    "        self.center_name = center_name\n",
    "        self.location = location\n",
    "\n",
    "class LogisticsManager:\n",
    "    def __init__(self, routes, shipments, distribution_centers):\n",
    "        self.routes = [Route(**r) for r in routes]\n",
    "        self.shipments = [Shipment(**s) for s in shipments]\n",
    "        self.distribution_centers = [DistributionCenter(**dc) for dc in distribution_centers]\n",
    "\n",
    "    def calculate_transport_cost(self, route, shipment):\n",
    "        cost = route.cost_per_km * shipment.distance_km\n",
    "        return cost\n",
    "\n",
    "    def check_route_availability(self, route, shipment):\n",
    "        if route.capacity_available >= shipment.quantity:\n",
    "            return True\n",
    "        else:\n",
    "            return False\n",
    "\n",
    "    def optimize_shipments(self):\n",
    "        for shipment in self.shipments:\n",
    "            for route in self.routes:\n",
    "                if self.check_route_availability(route, shipment):\n",
    "                    cost = self.calculate_transport_cost(route, shipment)\n",
    "                    if not shipment.cost or cost < shipment.cost:\n",
    "                        shipment.cost = cost\n",
    "                        shipment.selected_route = route\n",
    "\n",
    "    def display_shipment_schedule(self):\n",
    "        for shipment in self.shipments:\n",
    "            print(f\"Shipment ID {shipment.shipment_id}:\")\n",
    "            print(f\"  Product Type: {shipment.product_type}\")\n",
    "            print(f\"  Quantity: {shipment.quantity}\")\n",
    "            print(f\"  Distance (km): {shipment.distance_km}\")\n",
    "            print(f\"  Selected Route: {shipment.selected_route.route_name}\")\n",
    "            print(f\"  Transportation Cost: {shipment.cost:.2f}\")\n",
    "            print(\"=\" * 40)\n",
    "\n",
    "# Sample data\n",
    "routes_data = [\n",
    "    {\"route_id\": 1, \"route_name\": \"Route A\", \"capacity\": 100, \"cost_per_km\": 2.5},\n",
    "    {\"route_id\": 2, \"route_name\": \"Route B\", \"capacity\": 150, \"cost_per_km\": 3.0},\n",
    "    {\"route_id\": 3, \"route_name\": \"Route C\", \"capacity\": 200, \"cost_per_km\": 2.0},\n",
    "]\n",
    "\n",
    "shipments_data = [\n",
    "    {\"shipment_id\": 101, \"product_type\": \"Crude Oil\", \"quantity\": 50, \"distance_km\": 200},\n",
    "    {\"shipment_id\": 102, \"product_type\": \"Natural Gas\", \"quantity\": 1000, \"distance_km\": 300},\n",
    "    {\"shipment_id\": 103, \"product_type\": \"Crude Oil\", \"quantity\": 80, \"distance_km\": 150},\n",
    "    {\"shipment_id\": 104, \"product_type\": \"Liquefied Natural Gas (LNG)\", \"quantity\": 500, \"distance_km\": 250},\n",
    "]\n",
    "\n",
    "centers_data = [\n",
    "    {\"center_id\": 1, \"center_name\": \"Center X\", \"location\": \"City A\"},\n",
    "    {\"center_id\": 2, \"center_name\": \"Center Y\", \"location\": \"City B\"},\n",
    "    {\"center_id\": 3, \"center_name\": \"Center Z\", \"location\": \"City C\"},\n",
    "]\n",
    "\n",
    "# Create and manage logistics\n",
    "logistics = LogisticsManager(routes_data, shipments_data, centers_data)\n",
    "logistics.optimize_shipments()\n",
    "logistics.display_shipment_schedule()\n",
    "\n",
    "\n",
    "\n",
    "# Sample data for transportation routes\n",
    "routes = [\n",
    "    {\"route_id\": 1, \"route_name\": \"Route A\", \"capacity\": 100, \"cost_per_km\": 2.5},\n",
    "    {\"route_id\": 2, \"route_name\": \"Route B\", \"capacity\": 150, \"cost_per_km\": 3.0},\n",
    "    {\"route_id\": 3, \"route_name\": \"Route C\", \"capacity\": 200, \"cost_per_km\": 2.0},\n",
    "]\n",
    "\n",
    "# Sample data for product shipments\n",
    "shipments = [\n",
    "    {\"shipment_id\": 101, \"product_type\": \"Crude Oil\", \"quantity\": 50, \"distance_km\": 200},\n",
    "    {\"shipment_id\": 102, \"product_type\": \"Natural Gas\", \"quantity\": 1000, \"distance_km\": 300},\n",
    "    {\"shipment_id\": 103, \"product_type\": \"Crude Oil\", \"quantity\": 80, \"distance_km\": 150},\n",
    "    {\"shipment_id\": 104, \"product_type\": \"Liquefied Natural Gas (LNG)\", \"quantity\": 500, \"distance_km\": 250},\n",
    "]\n",
    "\n",
    "# Sample data for distribution centers\n",
    "distribution_centers = [\n",
    "    {\"center_id\": 1, \"center_name\": \"Center X\", \"location\": \"City A\"},\n",
    "    {\"center_id\": 2, \"center_name\": \"Center Y\", \"location\": \"City B\"},\n",
    "    {\"center_id\": 3, \"center_name\": \"Center Z\", \"location\": \"City C\"},\n",
    "]\n",
    "\n",
    "# Sample data for available routes and their capacities\n",
    "available_routes = [\n",
    "    {\"route_id\": 1, \"capacity_available\": 80},\n",
    "    {\"route_id\": 2, \"capacity_available\": 120},\n",
    "    {\"route_id\": 3, \"capacity_available\": 180},\n",
    "]\n",
    "\n",
    "# Sample data for logging shipment activities\n",
    "shipment_logs = []\n",
    "\n",
    "# Sample data for product scheduling (for recursive function)\n",
    "product_quantities = {\n",
    "    \"Crude Oil\": 200,\n",
    "    \"Natural Gas\": 800,\n",
    "    \"Liquefied Natural Gas (LNG)\": 300,\n",
    "}"
   ]
  },
  {
   "cell_type": "code",
   "execution_count": 7,
   "id": "9ef8cecd",
   "metadata": {},
   "outputs": [
    {
     "name": "stdout",
     "output_type": "stream",
     "text": [
      "Uppercase list: ['HELLO', 'WORLD', 'LAMBDA', 'FUNCTION']\n"
     ]
    }
   ],
   "source": [
    "#Assignment -2\n",
    "string_list = [\"hello\", \"world\", \"lambda\", \"function\"]\n",
    "uppercase_list = list(map(lambda s: s.upper(), string_list))\n",
    "\n",
    "print(\"Uppercase list:\", uppercase_list)\n"
   ]
  },
  {
   "cell_type": "code",
   "execution_count": 8,
   "id": "aa3b72b0",
   "metadata": {},
   "outputs": [
    {
     "name": "stdout",
     "output_type": "stream",
     "text": [
      "Result of addition: 8\n"
     ]
    }
   ],
   "source": [
    "addition = lambda x, y: x + y\n",
    "\n",
    "result = addition(5, 3)\n",
    "print(\"Result of addition:\", result)"
   ]
  },
  {
   "cell_type": "code",
   "execution_count": 9,
   "id": "1513d22a",
   "metadata": {},
   "outputs": [
    {
     "name": "stdout",
     "output_type": "stream",
     "text": [
      "Transportation cost: 20.0\n"
     ]
    }
   ],
   "source": [
    "#Assignment\n",
    "def calculate_transport_cost(distance, product_type):\n",
    "    \n",
    "    cost_per_km = {\n",
    "        \"crude_oil\": 0.1,\n",
    "        \"natural_gas\": 0.08,\n",
    "    }\n",
    "\n",
    "    if product_type in cost_per_km:\n",
    "        cost = distance * cost_per_km[product_type]\n",
    "        return cost\n",
    "    else:\n",
    "        return \"Product type not found or unsupported.\"\n",
    "\n",
    "distance = 200  \n",
    "product_type = \"crude_oil\"  \n",
    "transport_cost = calculate_transport_cost(distance, product_type)\n",
    "print(\"Transportation cost:\", transport_cost)\n"
   ]
  },
  {
   "cell_type": "code",
   "execution_count": 10,
   "id": "cdf17ad3",
   "metadata": {},
   "outputs": [
    {
     "name": "stdout",
     "output_type": "stream",
     "text": [
      "The route Route A is available and can carry 500 units of the product.\n"
     ]
    }
   ],
   "source": [
    "def check_route_availability(route, product_quantity, route_capacity):\n",
    "    if product_quantity <= route_capacity:\n",
    "        return f\"The route {route} is available and can carry {product_quantity} units of the product.\"\n",
    "    else:\n",
    "        return f\"The route {route} is not available or does not have enough capacity to carry {product_quantity} units of the product.\"\n",
    "\n",
    "route = \"Route A\" \n",
    "product_quantity = 500  \n",
    "route_capacity = 750  \n",
    "availability_result = check_route_availability(route, product_quantity, route_capacity)\n",
    "print(availability_result)\n"
   ]
  },
  {
   "cell_type": "code",
   "execution_count": 11,
   "id": "95f1591f",
   "metadata": {},
   "outputs": [
    {
     "name": "stdout",
     "output_type": "stream",
     "text": [
      "The route is available and costs $20.00.\n"
     ]
    }
   ],
   "source": [
    "def optimize_transport_route(distance, product_type, product_quantity, route_capacity):\n",
    "    \n",
    "    transport_cost = calculate_transport_cost(distance, product_type)\n",
    "\n",
    "    availability_result = check_route_availability(distance, product_quantity, route_capacity)\n",
    "\n",
    "    if \"available\" in availability_result.lower() and transport_cost != \"Product type not found or unsupported.\":\n",
    "        return f\"The route is available and costs ${transport_cost:.2f}.\"\n",
    "    else:\n",
    "        return \"No suitable route found.\"\n",
    "\n",
    "distance = 200  \n",
    "product_type = \"crude_oil\"  \n",
    "product_quantity = 500  \n",
    "route_capacity = 750  \n",
    "result = optimize_transport_route(distance, product_type, product_quantity, route_capacity)\n",
    "print(result)\n"
   ]
  },
  {
   "cell_type": "code",
   "execution_count": 13,
   "id": "9b1d7ccd",
   "metadata": {},
   "outputs": [
    {
     "ename": "ValueError",
     "evalue": "could not convert string to float: '20.00.'",
     "output_type": "error",
     "traceback": [
      "\u001b[0;31m---------------------------------------------------------------------------\u001b[0m",
      "\u001b[0;31mValueError\u001b[0m                                Traceback (most recent call last)",
      "Cell \u001b[0;32mIn[13], line 38\u001b[0m\n\u001b[1;32m     31\u001b[0m distribution_centers \u001b[38;5;241m=\u001b[39m [\n\u001b[1;32m     32\u001b[0m     {\u001b[38;5;124m'\u001b[39m\u001b[38;5;124mname\u001b[39m\u001b[38;5;124m'\u001b[39m: \u001b[38;5;124m'\u001b[39m\u001b[38;5;124mCenter A\u001b[39m\u001b[38;5;124m'\u001b[39m, \u001b[38;5;124m'\u001b[39m\u001b[38;5;124mdistance\u001b[39m\u001b[38;5;124m'\u001b[39m: \u001b[38;5;241m200\u001b[39m, \u001b[38;5;124m'\u001b[39m\u001b[38;5;124mcapacity\u001b[39m\u001b[38;5;124m'\u001b[39m: \u001b[38;5;241m750\u001b[39m, \u001b[38;5;124m'\u001b[39m\u001b[38;5;124mproduct_type\u001b[39m\u001b[38;5;124m'\u001b[39m: \u001b[38;5;124m'\u001b[39m\u001b[38;5;124mcrude_oil\u001b[39m\u001b[38;5;124m'\u001b[39m},\n\u001b[1;32m     33\u001b[0m     {\u001b[38;5;124m'\u001b[39m\u001b[38;5;124mname\u001b[39m\u001b[38;5;124m'\u001b[39m: \u001b[38;5;124m'\u001b[39m\u001b[38;5;124mCenter B\u001b[39m\u001b[38;5;124m'\u001b[39m, \u001b[38;5;124m'\u001b[39m\u001b[38;5;124mdistance\u001b[39m\u001b[38;5;124m'\u001b[39m: \u001b[38;5;241m300\u001b[39m, \u001b[38;5;124m'\u001b[39m\u001b[38;5;124mcapacity\u001b[39m\u001b[38;5;124m'\u001b[39m: \u001b[38;5;241m1000\u001b[39m, \u001b[38;5;124m'\u001b[39m\u001b[38;5;124mproduct_type\u001b[39m\u001b[38;5;124m'\u001b[39m: \u001b[38;5;124m'\u001b[39m\u001b[38;5;124mnatural_gas\u001b[39m\u001b[38;5;124m'\u001b[39m}\n\u001b[1;32m     34\u001b[0m     \u001b[38;5;66;03m# Add more distribution centers with their details as needed\u001b[39;00m\n\u001b[1;32m     35\u001b[0m ]\n\u001b[1;32m     37\u001b[0m product_quantities \u001b[38;5;241m=\u001b[39m [\u001b[38;5;241m500\u001b[39m, \u001b[38;5;241m300\u001b[39m, \u001b[38;5;241m600\u001b[39m]  \u001b[38;5;66;03m# Replace with the actual product quantities\u001b[39;00m\n\u001b[0;32m---> 38\u001b[0m shipments \u001b[38;5;241m=\u001b[39m schedule_shipments(product_quantities, distribution_centers)\n\u001b[1;32m     39\u001b[0m \u001b[38;5;28;01mfor\u001b[39;00m shipment \u001b[38;5;129;01min\u001b[39;00m shipments:\n\u001b[1;32m     40\u001b[0m     \u001b[38;5;28mprint\u001b[39m(\u001b[38;5;124mf\u001b[39m\u001b[38;5;124m\"\u001b[39m\u001b[38;5;124mShipment: Quantity=\u001b[39m\u001b[38;5;132;01m{\u001b[39;00mshipment[\u001b[38;5;124m'\u001b[39m\u001b[38;5;124mproduct_quantity\u001b[39m\u001b[38;5;124m'\u001b[39m]\u001b[38;5;132;01m}\u001b[39;00m\u001b[38;5;124m, Center=\u001b[39m\u001b[38;5;132;01m{\u001b[39;00mshipment[\u001b[38;5;124m'\u001b[39m\u001b[38;5;124mdistribution_center\u001b[39m\u001b[38;5;124m'\u001b[39m]\u001b[38;5;132;01m}\u001b[39;00m\u001b[38;5;124m, Cost=$\u001b[39m\u001b[38;5;132;01m{\u001b[39;00mshipment[\u001b[38;5;124m'\u001b[39m\u001b[38;5;124mcost\u001b[39m\u001b[38;5;124m'\u001b[39m]\u001b[38;5;132;01m:\u001b[39;00m\u001b[38;5;124m.2f\u001b[39m\u001b[38;5;132;01m}\u001b[39;00m\u001b[38;5;124m\"\u001b[39m)\n",
      "Cell \u001b[0;32mIn[13], line 20\u001b[0m, in \u001b[0;36mschedule_shipments\u001b[0;34m(product_quantities, distribution_centers)\u001b[0m\n\u001b[1;32m     14\u001b[0m     cost_result \u001b[38;5;241m=\u001b[39m optimize_transport_route(distance, product_type, product_quantity, route_capacity)\n\u001b[1;32m     16\u001b[0m     \u001b[38;5;28;01mif\u001b[39;00m \u001b[38;5;124m\"\u001b[39m\u001b[38;5;124mavailable\u001b[39m\u001b[38;5;124m\"\u001b[39m \u001b[38;5;129;01min\u001b[39;00m cost_result\u001b[38;5;241m.\u001b[39mlower():\n\u001b[1;32m     17\u001b[0m         shipments\u001b[38;5;241m.\u001b[39mappend({\n\u001b[1;32m     18\u001b[0m             \u001b[38;5;124m'\u001b[39m\u001b[38;5;124mproduct_quantity\u001b[39m\u001b[38;5;124m'\u001b[39m: product_quantity,\n\u001b[1;32m     19\u001b[0m             \u001b[38;5;124m'\u001b[39m\u001b[38;5;124mdistribution_center\u001b[39m\u001b[38;5;124m'\u001b[39m: center[\u001b[38;5;124m'\u001b[39m\u001b[38;5;124mname\u001b[39m\u001b[38;5;124m'\u001b[39m],\n\u001b[0;32m---> 20\u001b[0m             \u001b[38;5;124m'\u001b[39m\u001b[38;5;124mcost\u001b[39m\u001b[38;5;124m'\u001b[39m: \u001b[38;5;28mfloat\u001b[39m(cost_result\u001b[38;5;241m.\u001b[39msplit(\u001b[38;5;124m'\u001b[39m\u001b[38;5;124m$\u001b[39m\u001b[38;5;124m'\u001b[39m)[\u001b[38;5;241m1\u001b[39m])\n\u001b[1;32m     21\u001b[0m         })\n\u001b[1;32m     22\u001b[0m         \u001b[38;5;28;01mbreak\u001b[39;00m\n\u001b[1;32m     24\u001b[0m \u001b[38;5;66;03m# Recursively schedule shipments for the remaining product quantities\u001b[39;00m\n",
      "\u001b[0;31mValueError\u001b[0m: could not convert string to float: '20.00.'"
     ]
    }
   ],
   "source": [
    "def schedule_shipments(product_quantities, distribution_centers):\n",
    "    if not product_quantities:\n",
    "        return []\n",
    "\n",
    "    shipments = []\n",
    "\n",
    "    # Try to find the most cost-effective route for the first product quantity\n",
    "    product_quantity = product_quantities[0]\n",
    "    for center in distribution_centers:\n",
    "        distance = center['distance']\n",
    "        route_capacity = center['capacity']\n",
    "        product_type = center['product_type']\n",
    "\n",
    "        cost_result = optimize_transport_route(distance, product_type, product_quantity, route_capacity)\n",
    "\n",
    "        if \"available\" in cost_result.lower():\n",
    "            shipments.append({\n",
    "                'product_quantity': product_quantity,\n",
    "                'distribution_center': center['name'],\n",
    "                'cost': float(cost_result.split('$')[1])\n",
    "            })\n",
    "            break\n",
    "\n",
    "    # Recursively schedule shipments for the remaining product quantities\n",
    "    remaining_shipments = schedule_shipments(product_quantities[1:], distribution_centers)\n",
    "    shipments.extend(remaining_shipments)\n",
    "\n",
    "    return shipments\n",
    "\n",
    "# Example usage:\n",
    "distribution_centers = [\n",
    "    {'name': 'Center A', 'distance': 200, 'capacity': 750, 'product_type': 'crude_oil'},\n",
    "    {'name': 'Center B', 'distance': 300, 'capacity': 1000, 'product_type': 'natural_gas'}\n",
    "    # Add more distribution centers with their details as needed\n",
    "]\n",
    "\n",
    "product_quantities = [500, 300, 600]  # Replace with the actual product quantities\n",
    "shipments = schedule_shipments(product_quantities, distribution_centers)\n",
    "for shipment in shipments:\n",
    "    print(f\"Shipment: Quantity={shipment['product_quantity']}, Center={shipment['distribution_center']}, Cost=${shipment['cost']:.2f}\")\n"
   ]
  },
  {
   "cell_type": "code",
   "execution_count": 14,
   "id": "5eb95d84",
   "metadata": {},
   "outputs": [
    {
     "name": "stdout",
     "output_type": "stream",
     "text": [
      "Route: Route A, Capacity: 1000, Cost per KM: $0.10\n",
      "Route: Route B, Capacity: 800, Cost per KM: $0.12\n",
      "Route: Route C, Capacity: 1200, Cost per KM: $0.08\n"
     ]
    }
   ],
   "source": [
    "def list_available_routes():\n",
    "    routes = [\n",
    "        {'name': 'Route A', 'capacity': 1000, 'cost_per_km': 0.1},\n",
    "        {'name': 'Route B', 'capacity': 800, 'cost_per_km': 0.12},\n",
    "        {'name': 'Route C', 'capacity': 1200, 'cost_per_km': 0.08},\n",
    "        # Add more routes with their details as needed\n",
    "    ]\n",
    "\n",
    "    for route in routes:\n",
    "        yield route\n",
    "\n",
    "# Example usage to iterate over available routes:\n",
    "for route_info in list_available_routes():\n",
    "    print(f\"Route: {route_info['name']}, Capacity: {route_info['capacity']}, Cost per KM: ${route_info['cost_per_km']:.2f}\")\n"
   ]
  },
  {
   "cell_type": "code",
   "execution_count": 21,
   "id": "66b31a05",
   "metadata": {},
   "outputs": [],
   "source": [
    "import datetime\n",
    "\n",
    "@log_shipment_activity\n",
    "def optimize_transport_route(distance, product_type, product_quantity, route_capacity):\n",
    "   \n",
    "    def wrapper(*args, **kwargs):\n",
    "        product_type = kwargs.get('product_type', '')\n",
    "        product_quantity = kwargs.get('product_quantity', 0)\n",
    "        route_name = kwargs.get('route_name', '')\n",
    "        cost = kwargs.get('cost', 0)\n",
    "\n",
    "        timestamp = datetime.datetime.now().strftime(\"%Y-%m-%d %H:%M:%S\")\n",
    "\n",
    "        print(f\"[{timestamp}] Shipment: Product={product_type}, Quantity={product_quantity}, Route={route_name}, Cost=${cost:.2f}\")\n",
    "\n",
    "        result = func(*args, **kwargs)\n",
    "        return result\n",
    "\n",
    "    return wrapper\n",
    "\n"
   ]
  },
  {
   "cell_type": "code",
   "execution_count": null,
   "id": "75635eb0",
   "metadata": {},
   "outputs": [],
   "source": []
  }
 ],
 "metadata": {
  "kernelspec": {
   "display_name": "Python 3 (ipykernel)",
   "language": "python",
   "name": "python3"
  },
  "language_info": {
   "codemirror_mode": {
    "name": "ipython",
    "version": 3
   },
   "file_extension": ".py",
   "mimetype": "text/x-python",
   "name": "python",
   "nbconvert_exporter": "python",
   "pygments_lexer": "ipython3",
   "version": "3.11.4"
  }
 },
 "nbformat": 4,
 "nbformat_minor": 5
}
