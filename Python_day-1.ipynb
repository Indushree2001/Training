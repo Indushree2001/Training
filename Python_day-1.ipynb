{
 "cells": [
  {
   "cell_type": "code",
   "execution_count": 2,
   "id": "e2146938",
   "metadata": {},
   "outputs": [
    {
     "name": "stdout",
     "output_type": "stream",
     "text": [
      "(1,)\n"
     ]
    }
   ],
   "source": [
    "var1=(1,)\n",
    "print(var1)"
   ]
  },
  {
   "cell_type": "code",
   "execution_count": 3,
   "id": "a33b4088",
   "metadata": {},
   "outputs": [
    {
     "data": {
      "text/plain": [
       "tuple"
      ]
     },
     "execution_count": 3,
     "metadata": {},
     "output_type": "execute_result"
    }
   ],
   "source": [
    "type(var1)"
   ]
  },
  {
   "cell_type": "code",
   "execution_count": 4,
   "id": "e6eb6645",
   "metadata": {},
   "outputs": [
    {
     "data": {
      "text/plain": [
       "140360690083264"
      ]
     },
     "execution_count": 4,
     "metadata": {},
     "output_type": "execute_result"
    }
   ],
   "source": [
    "id(var1)"
   ]
  },
  {
   "cell_type": "code",
   "execution_count": 5,
   "id": "f7c28be5",
   "metadata": {},
   "outputs": [
    {
     "data": {
      "text/plain": [
       "8888168"
      ]
     },
     "execution_count": 5,
     "metadata": {},
     "output_type": "execute_result"
    }
   ],
   "source": [
    "m2=100\n",
    "id(m2)"
   ]
  },
  {
   "cell_type": "code",
   "execution_count": 6,
   "id": "6327a9fe",
   "metadata": {},
   "outputs": [
    {
     "data": {
      "text/plain": [
       "8888168"
      ]
     },
     "execution_count": 6,
     "metadata": {},
     "output_type": "execute_result"
    }
   ],
   "source": [
    "m1=100\n",
    "id(m1)"
   ]
  },
  {
   "cell_type": "code",
   "execution_count": 8,
   "id": "08eb95f3",
   "metadata": {},
   "outputs": [
    {
     "data": {
      "text/plain": [
       "140360691383504"
      ]
     },
     "execution_count": 8,
     "metadata": {},
     "output_type": "execute_result"
    }
   ],
   "source": [
    "m3=300\n",
    "id(m3)\n"
   ]
  },
  {
   "cell_type": "code",
   "execution_count": 9,
   "id": "c928f035",
   "metadata": {},
   "outputs": [
    {
     "data": {
      "text/plain": [
       "140360691383536"
      ]
     },
     "execution_count": 9,
     "metadata": {},
     "output_type": "execute_result"
    }
   ],
   "source": [
    "m4=300\n",
    "id(m4)"
   ]
  },
  {
   "cell_type": "code",
   "execution_count": 11,
   "id": "c0110434",
   "metadata": {},
   "outputs": [
    {
     "name": "stdout",
     "output_type": "stream",
     "text": [
      "{1, 2, 3, 4, 'indu'}\n"
     ]
    }
   ],
   "source": [
    "set1={1,2,3,4,'indu'}\n",
    "print(set1)"
   ]
  },
  {
   "cell_type": "code",
   "execution_count": 14,
   "id": "0377a0c0",
   "metadata": {},
   "outputs": [],
   "source": [
    "list1=[1,2,6,7,8]"
   ]
  },
  {
   "cell_type": "code",
   "execution_count": 15,
   "id": "4dec6314",
   "metadata": {},
   "outputs": [
    {
     "name": "stdout",
     "output_type": "stream",
     "text": [
      "Enter value: 23\n",
      "23\n"
     ]
    }
   ],
   "source": [
    "p=int(input(\"Enter value: \"))\n",
    "print(p)"
   ]
  },
  {
   "cell_type": "code",
   "execution_count": 16,
   "id": "5920d222",
   "metadata": {},
   "outputs": [
    {
     "name": "stdout",
     "output_type": "stream",
     "text": [
      "1\n",
      "2\n",
      "6\n",
      "7\n",
      "8\n"
     ]
    }
   ],
   "source": [
    "for i in range(5):\n",
    "    print(list1[i])"
   ]
  },
  {
   "cell_type": "code",
   "execution_count": 20,
   "id": "730cd6e3",
   "metadata": {},
   "outputs": [
    {
     "name": "stdout",
     "output_type": "stream",
     "text": [
      "enter fname and lname:Indu Hegde\n"
     ]
    }
   ],
   "source": [
    "a,b=input(\"enter fname and lname:\").split(\" \")"
   ]
  },
  {
   "cell_type": "code",
   "execution_count": 24,
   "id": "f00686a5",
   "metadata": {},
   "outputs": [
    {
     "name": "stdout",
     "output_type": "stream",
     "text": [
      "Good weather but not suitable for activity\n"
     ]
    }
   ],
   "source": [
    "is_sunny=True\n",
    "is_weekend=False\n",
    "\n",
    "if is_sunny==True and is_weekend==True:\n",
    "    print(\"Good weather and suitable for activity\")\n",
    "elif is_sunny==True and is_weekend==False or is_sunny==False and is_weekend==True:\n",
    "    print(\"Good weather but not suitable for activity\")    \n",
    "else:\n",
    "    print(\"Bad weather but not suitable for activity\")"
   ]
  },
  {
   "cell_type": "code",
   "execution_count": 29,
   "id": "d5259056",
   "metadata": {},
   "outputs": [],
   "source": [
    "dates = ['2023-09-01', '2023-09-02', '2023-09-03', '2023-09-04', '2023-09-05']\n",
    "temperature = [78, 82, 79, 85, 88]\n",
    "humidity = [60, 65, 62, 58, 57]\n",
    "precipitation = [0.0, 0.2, 0.0, 0.0, 0.0]\n",
    "\n",
    "weather_data = list(zip(dates, temperature, humidity, precipitation))"
   ]
  },
  {
   "cell_type": "code",
   "execution_count": 33,
   "id": "e659b8eb",
   "metadata": {},
   "outputs": [
    {
     "data": {
      "text/plain": [
       "[('2023-09-01', 78, 60, 0.0),\n",
       " ('2023-09-02', 82, 65, 0.2),\n",
       " ('2023-09-03', 79, 62, 0.0),\n",
       " ('2023-09-04', 85, 58, 0.0),\n",
       " ('2023-09-05', 88, 57, 0.0)]"
      ]
     },
     "execution_count": 33,
     "metadata": {},
     "output_type": "execute_result"
    }
   ],
   "source": [
    "weather_data\n"
   ]
  },
  {
   "cell_type": "code",
   "execution_count": 52,
   "id": "391f6216",
   "metadata": {},
   "outputs": [],
   "source": [
    "hot_dates=[]\n",
    "for j in temperature:\n",
    "    if j>80:\n",
    "        hot_dates.append(j)"
   ]
  },
  {
   "cell_type": "code",
   "execution_count": 54,
   "id": "8bdcd3dd",
   "metadata": {},
   "outputs": [
    {
     "data": {
      "text/plain": [
       "[82, 85, 88]"
      ]
     },
     "execution_count": 54,
     "metadata": {},
     "output_type": "execute_result"
    }
   ],
   "source": [
    "hot_dates\n"
   ]
  },
  {
   "cell_type": "code",
   "execution_count": 56,
   "id": "e31cdfe7",
   "metadata": {},
   "outputs": [],
   "source": [
    "weather_forecast = []\n",
    "for temp in temperature:\n",
    "    if temp > 85:\n",
    "        forecast = \"Hot and sunny\"\n",
    "    elif 80 <= temp <= 85:\n",
    "        forecast = \"Warm and pleasant\"\n",
    "    else:\n",
    "        forecast = \"Cool and comfortable\"\n",
    "    weather_forecast.append(forecast)"
   ]
  },
  {
   "cell_type": "code",
   "execution_count": 57,
   "id": "aa3a6ca6",
   "metadata": {},
   "outputs": [],
   "source": [
    "dict=[dates,weather_forecast]"
   ]
  },
  {
   "cell_type": "code",
   "execution_count": 58,
   "id": "aa216ec4",
   "metadata": {},
   "outputs": [
    {
     "data": {
      "text/plain": [
       "[['2023-09-01', '2023-09-02', '2023-09-03', '2023-09-04', '2023-09-05'],\n",
       " ['Cool and comfortable',\n",
       "  'Warm and pleasant',\n",
       "  'Cool and comfortable',\n",
       "  'Warm and pleasant',\n",
       "  'Hot and sunny']]"
      ]
     },
     "execution_count": 58,
     "metadata": {},
     "output_type": "execute_result"
    }
   ],
   "source": [
    "dict\n"
   ]
  },
  {
   "cell_type": "code",
   "execution_count": 60,
   "id": "b8d66cd2",
   "metadata": {},
   "outputs": [],
   "source": [
    "dict1=(dates,weather_forecast)"
   ]
  },
  {
   "cell_type": "code",
   "execution_count": 61,
   "id": "bc533c10",
   "metadata": {},
   "outputs": [
    {
     "data": {
      "text/plain": [
       "(['2023-09-01', '2023-09-02', '2023-09-03', '2023-09-04', '2023-09-05'],\n",
       " ['Cool and comfortable',\n",
       "  'Warm and pleasant',\n",
       "  'Cool and comfortable',\n",
       "  'Warm and pleasant',\n",
       "  'Hot and sunny'])"
      ]
     },
     "execution_count": 61,
     "metadata": {},
     "output_type": "execute_result"
    }
   ],
   "source": [
    "dict1"
   ]
  },
  {
   "cell_type": "code",
   "execution_count": 63,
   "id": "12294aad",
   "metadata": {},
   "outputs": [],
   "source": [
    "weather_dict = {}\n",
    "\n",
    "\n",
    "for date, forecast in zip(dates, weather_forecast):\n",
    "    weather_dict[date] = forecast"
   ]
  },
  {
   "cell_type": "code",
   "execution_count": 64,
   "id": "6592546b",
   "metadata": {},
   "outputs": [
    {
     "data": {
      "text/plain": [
       "{'2023-09-01': 'Cool and comfortable',\n",
       " '2023-09-02': 'Warm and pleasant',\n",
       " '2023-09-03': 'Cool and comfortable',\n",
       " '2023-09-04': 'Warm and pleasant',\n",
       " '2023-09-05': 'Hot and sunny'}"
      ]
     },
     "execution_count": 64,
     "metadata": {},
     "output_type": "execute_result"
    }
   ],
   "source": [
    "weather_dict"
   ]
  },
  {
   "cell_type": "code",
   "execution_count": 68,
   "id": "821a04a3",
   "metadata": {},
   "outputs": [],
   "source": [
    "avg_temp=sum(temperature)//len(temperature)"
   ]
  },
  {
   "cell_type": "code",
   "execution_count": 69,
   "id": "df64e9d3",
   "metadata": {},
   "outputs": [
    {
     "data": {
      "text/plain": [
       "82"
      ]
     },
     "execution_count": 69,
     "metadata": {},
     "output_type": "execute_result"
    }
   ],
   "source": [
    "avg_temp"
   ]
  },
  {
   "cell_type": "code",
   "execution_count": 76,
   "id": "0147c5a1",
   "metadata": {},
   "outputs": [
    {
     "name": "stdout",
     "output_type": "stream",
     "text": [
      "Hello John, the current temperature is 78°C, and the forecast is Sunny.\n",
      "Hello John, the current temperature is 78°C, and the forecast is Sunny.\n"
     ]
    }
   ],
   "source": [
    "print(message) == \"John\"\n",
    "temperature = 78  \n",
    "forecast = \"Sunny\"  \n",
    "\n",
    "message = f\"Hello {user_name}, the current temperature is {temperature}°C, and the forecast is {forecast}.\"\n",
    "\n",
    "print(message)"
   ]
  },
  {
   "cell_type": "code",
   "execution_count": 79,
   "id": "1bee70ef",
   "metadata": {},
   "outputs": [],
   "source": [
    "list1=[120940305,'33-053-05925-0000','2015',8,'G',357.83334,4,0,'L','R','G']"
   ]
  },
  {
   "cell_type": "code",
   "execution_count": 90,
   "id": "4e4988a1",
   "metadata": {},
   "outputs": [],
   "source": [
    "dict1={'Id':120940305,'API Number':'33-053-05925-0000','Year':'2015','Month':8,'OilAndGasGroup':'G','Production':357.83334,'CumulativeCalendarMonths':4,'CumulativeCalendarYears':0,'Production_Phase':'L','production Forecast Group':'R','OilAndGasCategory':'G'}"
   ]
  },
  {
   "cell_type": "code",
   "execution_count": 91,
   "id": "6c3a3387",
   "metadata": {},
   "outputs": [
    {
     "data": {
      "text/plain": [
       "{'Id': 120940305,\n",
       " 'API Number': '33-053-05925-0000',\n",
       " 'Year': '2015',\n",
       " 'Month': 8,\n",
       " 'OilAndGasGroup': 'G',\n",
       " 'Production': 357.83334,\n",
       " 'CumulativeCalendarMonths': 4,\n",
       " 'CumulativeCalendarYears': 0,\n",
       " 'Production_Phase': 'L',\n",
       " 'production Forecast Group': 'R',\n",
       " 'OilAndGasCategory': 'G'}"
      ]
     },
     "execution_count": 91,
     "metadata": {},
     "output_type": "execute_result"
    }
   ],
   "source": [
    "dict1\n"
   ]
  },
  {
   "cell_type": "code",
   "execution_count": 92,
   "id": "39ace6e8",
   "metadata": {},
   "outputs": [],
   "source": [
    "list2=['Id','API Number','Year','Month','OilAndGasGroup','Production','CumulativeCalendarMonths','CumulativeCalendarYears','Production Phase','Production Forecast Group','OilAndGasCategory']"
   ]
  },
  {
   "cell_type": "code",
   "execution_count": 97,
   "id": "e7bb369a",
   "metadata": {},
   "outputs": [],
   "source": [
    "dict2={'list2[]','list1[]'}"
   ]
  },
  {
   "cell_type": "code",
   "execution_count": 98,
   "id": "be5995e3",
   "metadata": {},
   "outputs": [
    {
     "data": {
      "text/plain": [
       "False"
      ]
     },
     "execution_count": 98,
     "metadata": {},
     "output_type": "execute_result"
    }
   ],
   "source": [
    "d=dict2==dict1\n",
    "d"
   ]
  },
  {
   "cell_type": "code",
   "execution_count": 99,
   "id": "dfbe5298",
   "metadata": {},
   "outputs": [
    {
     "data": {
      "text/plain": [
       "{'list1[]', 'list2[]'}"
      ]
     },
     "execution_count": 99,
     "metadata": {},
     "output_type": "execute_result"
    }
   ],
   "source": [
    "dict2\n"
   ]
  },
  {
   "cell_type": "code",
   "execution_count": 108,
   "id": "2e05a9e7",
   "metadata": {},
   "outputs": [
    {
     "ename": "TypeError",
     "evalue": "'list' object is not callable",
     "output_type": "error",
     "traceback": [
      "\u001b[0;31m---------------------------------------------------------------------------\u001b[0m",
      "\u001b[0;31mTypeError\u001b[0m                                 Traceback (most recent call last)",
      "Cell \u001b[0;32mIn[108], line 1\u001b[0m\n\u001b[0;32m----> 1\u001b[0m my_dict \u001b[38;5;241m=\u001b[39m \u001b[38;5;28mdict\u001b[39m(\u001b[38;5;28mzip\u001b[39m(list2, list1))\n",
      "\u001b[0;31mTypeError\u001b[0m: 'list' object is not callable"
     ]
    }
   ],
   "source": [
    "my_dict = dict(list2, list1)"
   ]
  },
  {
   "cell_type": "code",
   "execution_count": 106,
   "id": "24683e2d",
   "metadata": {},
   "outputs": [
    {
     "data": {
      "text/plain": [
       "{'list1', 'list2'}"
      ]
     },
     "execution_count": 106,
     "metadata": {},
     "output_type": "execute_result"
    }
   ],
   "source": [
    "dict3\n"
   ]
  },
  {
   "cell_type": "code",
   "execution_count": null,
   "id": "b8b74598",
   "metadata": {},
   "outputs": [],
   "source": []
  },
  {
   "cell_type": "code",
   "execution_count": null,
   "id": "8c4ab9a7",
   "metadata": {},
   "outputs": [],
   "source": []
  }
 ],
 "metadata": {
  "kernelspec": {
   "display_name": "Python 3 (ipykernel)",
   "language": "python",
   "name": "python3"
  },
  "language_info": {
   "codemirror_mode": {
    "name": "ipython",
    "version": 3
   },
   "file_extension": ".py",
   "mimetype": "text/x-python",
   "name": "python",
   "nbconvert_exporter": "python",
   "pygments_lexer": "ipython3",
   "version": "3.11.4"
  }
 },
 "nbformat": 4,
 "nbformat_minor": 5
}
